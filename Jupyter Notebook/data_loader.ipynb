{
 "cells": [
  {
   "cell_type": "code",
   "execution_count": null,
   "metadata": {},
   "outputs": [],
   "source": [
    "import sys\n",
    "\n",
    "sys.path.append('../')"
   ]
  },
  {
   "cell_type": "code",
   "execution_count": null,
   "metadata": {},
   "outputs": [],
   "source": [
    "import os\n",
    "from glob import glob\n",
    "\n",
    "import pickle\n",
    "\n",
    "import numpy as np\n",
    "import pandas as pd\n",
    "\n",
    "import torch\n",
    "import torch.nn.functional as F\n",
    "\n",
    "from torch_geometric.utils import from_smiles\n",
    "from torch_geometric.loader import DataLoader\n",
    "from torch_geometric.data import Data, Dataset\n",
    "from torch_geometric.nn.models import DimeNet, DimeNetPlusPlus\n",
    "\n",
    "from sklearn.preprocessing import StandardScaler\n",
    "\n",
    "from rdkit import Chem\n",
    "from rdkit.Chem import AllChem\n"
   ]
  },
  {
   "cell_type": "code",
   "execution_count": null,
   "metadata": {},
   "outputs": [],
   "source": [
    "import yaml\n",
    "\n",
    "# YAML 파일 읽기\n",
    "with open(\"../config/config.yaml\", 'r') as file:\n",
    "    config = yaml.load(file, Loader=yaml.FullLoader)"
   ]
  },
  {
   "cell_type": "code",
   "execution_count": null,
   "metadata": {},
   "outputs": [],
   "source": [
    "train = pd.read_csv('../data/train.csv', index_col='id')\n",
    "test = pd.read_csv('../data/test.csv', index_col='id')"
   ]
  },
  {
   "cell_type": "code",
   "execution_count": null,
   "metadata": {},
   "outputs": [],
   "source": [
    "df = train\n",
    "\n",
    "for col in df.select_dtypes('Int64').columns:\n",
    "    df[col] = df[col].astype('category')\n",
    "\n",
    "float_cols = df.select_dtypes('float64').columns\n",
    "scaler = StandardScaler()\n",
    "df[float_cols] = scaler.fit_transform(df[float_cols])"
   ]
  },
  {
   "cell_type": "code",
   "execution_count": null,
   "metadata": {},
   "outputs": [],
   "source": [
    "data_list = []\n",
    "\n",
    "for index, row in df.iterrows():\n",
    "    # SMILES 문자열에서 분자 객체 생성\n",
    "    mol = Chem.MolFromSmiles(row['SMILES'])\n",
    "    \n",
    "    # 수소 원자 추가\n",
    "    # mol = Chem.AddHs(mol)\n",
    "    \n",
    "    # 3D 구조 생성\n",
    "    AllChem.EmbedMolecule(mol, AllChem.ETKDG())\n",
    "    conf = mol.GetConformer()\n",
    "    positions = conf.GetPositions()\n",
    "    \n",
    "    # 3D 위치 정보를 data 객체에 추가\n",
    "    data = from_smiles(row['SMILES'])\n",
    "    data.pos = torch.tensor(positions, dtype=torch.float)\n",
    "    \n",
    "    # 그래프 특성으로 화학적 특성 추가\n",
    "    chem_features = torch.tensor([row['AlogP'], row['Molecular_Weight'], \n",
    "                                row['Num_H_Acceptors'], row['Num_H_Donors'], row['Num_RotatableBonds'], \n",
    "                                row['LogD'], row['Molecular_PolarSurfaceArea']], dtype=torch.float)\n",
    "    data.graph_attr = chem_features\n",
    "    \n",
    "    # 타겟 레이블로 MLM과 HLM 설정\n",
    "    data.y = torch.tensor([row['MLM'], row['HLM']], dtype=torch.float)\n",
    "    \n",
    "    data_list.append(data)"
   ]
  },
  {
   "cell_type": "code",
   "execution_count": null,
   "metadata": {},
   "outputs": [],
   "source": [
    "class CustomDataset(Dataset):\n",
    "    def __init__(self, data_list):\n",
    "        super().__init__(self)\n",
    "        self.data_list = data_list\n",
    "\n",
    "    def len(self):\n",
    "        return len(self.data_list)\n",
    "\n",
    "    def get(self, idx):\n",
    "        return self.data_list[idx]"
   ]
  },
  {
   "cell_type": "code",
   "execution_count": null,
   "metadata": {},
   "outputs": [],
   "source": [
    "dataset = CustomDataset(data_list)\n",
    "test_loader = DataLoader(dataset, batch_size=1)"
   ]
  },
  {
   "cell_type": "code",
   "execution_count": null,
   "metadata": {},
   "outputs": [],
   "source": [
    "inputs = next(iter(test_loader))"
   ]
  },
  {
   "cell_type": "code",
   "execution_count": null,
   "metadata": {},
   "outputs": [],
   "source": []
  }
 ],
 "metadata": {
  "kernelspec": {
   "display_name": "rdkit_env",
   "language": "python",
   "name": "python3"
  },
  "language_info": {
   "codemirror_mode": {
    "name": "ipython",
    "version": 3
   },
   "file_extension": ".py",
   "mimetype": "text/x-python",
   "name": "python",
   "nbconvert_exporter": "python",
   "pygments_lexer": "ipython3",
   "version": "3.11.4"
  },
  "orig_nbformat": 4
 },
 "nbformat": 4,
 "nbformat_minor": 2
}
